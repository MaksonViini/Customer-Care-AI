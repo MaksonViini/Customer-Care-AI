{
 "cells": [
  {
   "cell_type": "code",
   "execution_count": 1,
   "metadata": {},
   "outputs": [
    {
     "name": "stderr",
     "output_type": "stream",
     "text": [
      "/home/maksonvinicio/Documents/GitLab-GitHub/Customer-Care-AI/venv/lib/python3.10/site-packages/spacy/util.py:910: UserWarning: [W095] Model 'pt_core_news_sm' (3.5.0) was trained with spaCy v3.5 and may not be 100% compatible with the current version (3.6.0). If you see errors or degraded performance, download a newer compatible model or retrain your custom model with the current spaCy version. For more details and available updates, run: python -m spacy validate\n",
      "  warnings.warn(warn_msg)\n"
     ]
    }
   ],
   "source": [
    "import pandas as pd\n",
    "import spacy\n",
    "from sklearn.feature_extraction.text import TfidfVectorizer\n",
    "from sklearn.metrics.pairwise import cosine_similarity\n",
    "\n",
    "nlp = spacy.load(\"pt_core_news_sm\")\n",
    "\n",
    "\n",
    "def remove_stopwords(text):\n",
    "    doc = nlp(text)\n",
    "    filtered_words = [token.text for token in doc if not token.is_stop]\n",
    "    return \" \".join(filtered_words)\n",
    "\n",
    "\n",
    "def similarity_model(user_input):\n",
    "    data = pd.read_json(\n",
    "        \"/home/maksonvinicio/Documents/GitLab-GitHub/Customer-Care-AI/ml_model/data/data.json\"\n",
    "    ).reset_index(drop=True)\n",
    "\n",
    "    data_script = pd.read_json(\n",
    "        \"/home/maksonvinicio/Documents/GitLab-GitHub/Customer-Care-AI/ml_model/data/data_script.json\"\n",
    "    ).reset_index(drop=True)\n",
    "\n",
    "    data[\"description\"] = data[\"description\"].apply(lambda x: x.lower())\n",
    "\n",
    "    data[\"description\"] = data[\"description\"].apply(remove_stopwords)\n",
    "\n",
    "    # Instantiate the TF-IDF vectorizer\n",
    "    vectorizer = TfidfVectorizer(lowercase=True, strip_accents=\"unicode\")\n",
    "\n",
    "    # Apply TF-IDF on the text dataset\n",
    "    tfidf_matrix = vectorizer.fit_transform(data[\"description\"])\n",
    "\n",
    "    user_input = remove_stopwords(user_input)\n",
    "\n",
    "    # Vetorização do input do usuário\n",
    "    input_vector = vectorizer.transform([user_input])\n",
    "\n",
    "    # Cálculo da similaridade de cosseno entre o input do usuário e cada descrição\n",
    "    similarity_scores = cosine_similarity(input_vector, tfidf_matrix)\n",
    "\n",
    "    return similarity_scores.argmax()"
   ]
  },
  {
   "cell_type": "code",
   "execution_count": 10,
   "metadata": {},
   "outputs": [],
   "source": [
    "from motor.motor_asyncio import AsyncIOMotorClient\n",
    "import asyncio\n",
    "from pymongo import MongoClient\n",
    "\n",
    "\n",
    "DB_HOST_DEV = \"mongo\"\n",
    "DB_PASSWORD_DEV = \"example\"\n",
    "DB_PORT_DEV = \"27017\"\n",
    "DB_DATABASE_DEV = \"teste_data\"\n",
    "\n",
    "MONGODB_HOST = \"127.0.0.1\"  # Ou o endereço IP/nome do servidor MongoDB\n",
    "MONGODB_PORT = 27017  # Ou a porta correta em que o MongoDB está configurado para ouvir"
   ]
  },
  {
   "cell_type": "code",
   "execution_count": 14,
   "metadata": {},
   "outputs": [],
   "source": [
    "client = MongoClient(\"localhost\", 27017)\n",
    "database = client[\"customer-care-db\"]\n",
    "\n",
    "\n",
    "script_collection = database[\"script\"]\n",
    "description_colletion = database[\"description\"]\n",
    "users_collection = database[\"users\"]\n",
    "message_collection = database[\"messages\"]"
   ]
  },
  {
   "cell_type": "code",
   "execution_count": 50,
   "metadata": {},
   "outputs": [],
   "source": [
    "messages = message_collection.find({})"
   ]
  },
  {
   "cell_type": "code",
   "execution_count": 51,
   "metadata": {},
   "outputs": [],
   "source": [
    "chat_messages = [message[\"conversation\"] for message in messages]"
   ]
  },
  {
   "cell_type": "code",
   "execution_count": 52,
   "metadata": {},
   "outputs": [
    {
     "data": {
      "text/plain": [
       "[[{'step': 1,\n",
       "   'user_message': 'Estou com alguns problemas com meu seguro. o',\n",
       "   'bot_response': 'Olá! Bem-vindo ao nosso suporte. Como posso ajudar você hoje?'},\n",
       "  {'step': 2,\n",
       "   'user_message': 'e agora?',\n",
       "   'bot_response': 'Entendo que você está buscando ajuda para automatizar um processo de atendimento ao cliente no front office. Podemos orientar você nessa questão.'},\n",
       "  {'step': 3,\n",
       "   'user_message': 'testando',\n",
       "   'bot_response': 'Você poderia fornecer mais detalhes sobre o processo que deseja automatizar? Quais são as etapas envolvidas e quais são os principais desafios que você está enfrentando em relação à eficiência?'}]]"
      ]
     },
     "execution_count": 52,
     "metadata": {},
     "output_type": "execute_result"
    }
   ],
   "source": [
    "chat_messages"
   ]
  },
  {
   "cell_type": "code",
   "execution_count": 48,
   "metadata": {},
   "outputs": [
    {
     "name": "stdout",
     "output_type": "stream",
     "text": [
      "[{'step': 1, 'user_message': 'Estou com alguns problemas com meu seguro. o', 'bot_response': 'Olá! Bem-vindo ao nosso suporte. Como posso ajudar você hoje?'}, {'step': 2, 'user_message': 'e agora?', 'bot_response': 'Entendo que você está buscando ajuda para automatizar um processo de atendimento ao cliente no front office. Podemos orientar você nessa questão.'}]\n",
      "[{'step': 1, 'user_message': 'Estou com alguns problemas com meu seguro. o', 'bot_response': 'Olá! Bem-vindo ao nosso suporte. Como posso ajudar você hoje?'}, {'step': 2, 'user_message': 'e agora?', 'bot_response': 'Entendo que você está buscando ajuda para automatizar um processo de atendimento ao cliente no front office. Podemos orientar você nessa questão.'}]\n"
     ]
    }
   ],
   "source": [
    "for message in chat_messages:\n",
    "    for msg in message:\n",
    "        print(message)"
   ]
  },
  {
   "cell_type": "code",
   "execution_count": 17,
   "metadata": {},
   "outputs": [
    {
     "name": "stdout",
     "output_type": "stream",
     "text": [
      "{'_id': ObjectId('64be8eaac7620bfd791b5eea'), 'dialog_id': 4, 'user_id': 1, 'conversation': [{'step': 1, 'user_message': 'Estou com alguns problemas com meu seguro. o', 'bot_response': 'Olá! Bem-vindo ao nosso suporte. Como posso ajudar você hoje?'}]}\n"
     ]
    }
   ],
   "source": [
    "for c in messages:\n",
    "    print(c)"
   ]
  },
  {
   "cell_type": "markdown",
   "metadata": {},
   "source": [
    "# Teste script collection"
   ]
  },
  {
   "cell_type": "code",
   "execution_count": null,
   "metadata": {},
   "outputs": [],
   "source": [
    "script_collection.insert_one(\n",
    "    {\n",
    "        \"steps\": 8,\n",
    "        \"script_id\": 4,\n",
    "        \"script\": [\n",
    "            {\n",
    "                \"step\": 1,\n",
    "                \"message\": \"Olá! Bem-vindo ao nosso suporte. Como posso ajudar você hoje?\",\n",
    "            },\n",
    "            {\n",
    "                \"step\": 2,\n",
    "                \"message\": \"Entendo que você está buscando ajuda para automatizar um processo de atendimento ao cliente no front office. Podemos orientar você nessa questão.\",\n",
    "            },\n",
    "            {\n",
    "                \"step\": 3,\n",
    "                \"message\": \"Você poderia fornecer mais detalhes sobre o processo que deseja automatizar? Quais são as etapas envolvidas e quais são os principais desafios que você está enfrentando em relação à eficiência?\",\n",
    "            },\n",
    "            {\n",
    "                \"step\": 4,\n",
    "                \"message\": \"Quais são os objetivos que você deseja alcançar por meio da automação desse processo? Por exemplo, você está buscando reduzir o tempo de resposta, melhorar a qualidade do atendimento ou aumentar a satisfação dos clientes?\",\n",
    "            },\n",
    "            {\n",
    "                \"step\": 5,\n",
    "                \"message\": \"Com base nas informações fornecidas, vamos fornecer orientações sobre como melhorar a automação desse processo. Após coletarmos todas as informações necessárias, poderemos oferecer soluções mais específicas.\",\n",
    "            },\n",
    "            {\"step\": 6, \"message\": \"Coleta das informações\"},\n",
    "            {\n",
    "                \"step\": 7,\n",
    "                \"message\": \"Obrigado por fornecer os detalhes sobre o processo de atendimento ao cliente que você deseja automatizar. Vou encaminhar sua demanda para nossa equipe especializada, que analisará as informações e fornecerá as melhores práticas e soluções adequadas para otimizar a eficiência do seu processo.\",\n",
    "            },\n",
    "            {\n",
    "                \"step\": 8,\n",
    "                \"message\": \"Se você tiver mais alguma dúvida ou precisar de suporte adicional, não hesite em nos contatar novamente. Estamos aqui para ajudar. Obrigado pelo contato!\",\n",
    "            },\n",
    "        ],\n",
    "    }\n",
    ")"
   ]
  },
  {
   "cell_type": "markdown",
   "metadata": {},
   "source": [
    "# Teste API"
   ]
  },
  {
   "cell_type": "code",
   "execution_count": null,
   "metadata": {},
   "outputs": [],
   "source": [
    "details = {\"user_id\": 1, \"message\": \"Estou com alguns problemas com meu seguro.\"}"
   ]
  },
  {
   "cell_type": "code",
   "execution_count": null,
   "metadata": {},
   "outputs": [],
   "source": [
    "# Assuming you have a MongoDB collection named \"conversations_collection\" and \"script_collection\"\n",
    "\n",
    "data = dict(details)\n",
    "\n",
    "user_id_to_find = data.get(\"user_id\")\n",
    "\n",
    "# Find the existing document with the specified user_id\n",
    "if existing_document := conversations_collection.find_one({\"user_id\": user_id_to_find}):\n",
    "    # Get the last \"step\" within the \"conversation\" list\n",
    "    last_step = existing_document[\"conversation\"][-1][\"step\"]\n",
    "    most_similar_index = existing_document[\"dialog_id\"]\n",
    "\n",
    "    # Find the corresponding script based on \"most_similar_index\"\n",
    "    dados_script = script_collection.find_one({\"script_id\": int(most_similar_index)})\n",
    "\n",
    "    # Create the new document for the conversation\n",
    "    new_document = {\n",
    "        \"step\": last_step + 1,\n",
    "        \"user_message\": data.get(\"message\"),\n",
    "        \"bot_response\": dados_script[\"script\"][last_step][\"message\"],\n",
    "    }\n",
    "\n",
    "    # Append the new document to the existing conversation\n",
    "    existing_document[\"conversation\"].append(new_document)\n",
    "\n",
    "    # Update the existing document in the collection with the new conversation\n",
    "    conversations_collection.update_one(\n",
    "        {\"user_id\": user_id_to_find}, {\"$push\": {\"conversation\": new_document}}\n",
    "    )\n",
    "else:\n",
    "    # The user_id doesn't exist yet, so create a new document for the conversation\n",
    "\n",
    "    # Determine the most similar index based on \"data.get(\"message\")\"\n",
    "    most_similar_index = int(similarity_model(data.get(\"message\")))\n",
    "\n",
    "    # Find the corresponding script based on \"most_similar_index\"\n",
    "    dados_script = script_collection.find_one({\"script_id\": most_similar_index})\n",
    "\n",
    "    # Get the initial bot response from the script\n",
    "    bot_response = dados_script[\"script\"][0][\"message\"]\n",
    "\n",
    "    # Create the document to insert into the collection\n",
    "    user_dialog = {\n",
    "        \"dialog_id\": most_similar_index,\n",
    "        \"user_id\": user_id_to_find,\n",
    "        \"conversation\": [\n",
    "            {\n",
    "                \"step\": 1,\n",
    "                \"user_message\": data.get(\"message\"),\n",
    "                \"bot_response\": bot_response,\n",
    "            }\n",
    "        ],\n",
    "    }\n",
    "    conversations_collection.insert_one(user_dialog)\n",
    "\n",
    "    print(\"Insert\")"
   ]
  },
  {
   "cell_type": "code",
   "execution_count": null,
   "metadata": {},
   "outputs": [],
   "source": []
  },
  {
   "cell_type": "code",
   "execution_count": null,
   "metadata": {},
   "outputs": [],
   "source": []
  },
  {
   "cell_type": "code",
   "execution_count": null,
   "metadata": {},
   "outputs": [],
   "source": []
  },
  {
   "cell_type": "code",
   "execution_count": null,
   "metadata": {},
   "outputs": [],
   "source": []
  },
  {
   "cell_type": "code",
   "execution_count": null,
   "metadata": {},
   "outputs": [],
   "source": []
  },
  {
   "cell_type": "code",
   "execution_count": null,
   "metadata": {},
   "outputs": [],
   "source": []
  },
  {
   "cell_type": "code",
   "execution_count": null,
   "metadata": {},
   "outputs": [],
   "source": []
  },
  {
   "cell_type": "code",
   "execution_count": null,
   "metadata": {},
   "outputs": [],
   "source": []
  },
  {
   "cell_type": "code",
   "execution_count": null,
   "metadata": {},
   "outputs": [],
   "source": [
    "# # Provide the connection string to connect to the MongoDB database\n",
    "# connection_string = DB_URL\n",
    "\n",
    "# message_history = MongoDBChatMessageHistory(\n",
    "#     connection_string=connection_string, session_id=\"test-session\"\n",
    "# )\n",
    "\n",
    "# message_history.add_user_message(\"hi!\")\n",
    "\n",
    "# message_history.add_ai_message(\"whats up?\")"
   ]
  }
 ],
 "metadata": {
  "kernelspec": {
   "display_name": "venv",
   "language": "python",
   "name": "python3"
  },
  "language_info": {
   "codemirror_mode": {
    "name": "ipython",
    "version": 3
   },
   "file_extension": ".py",
   "mimetype": "text/x-python",
   "name": "python",
   "nbconvert_exporter": "python",
   "pygments_lexer": "ipython3",
   "version": "3.10.12"
  },
  "orig_nbformat": 4
 },
 "nbformat": 4,
 "nbformat_minor": 2
}
