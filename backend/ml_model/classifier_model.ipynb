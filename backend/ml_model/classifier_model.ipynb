{
 "cells": [
  {
   "cell_type": "code",
   "execution_count": 1,
   "metadata": {},
   "outputs": [],
   "source": [
    "import pandas as pd\n",
    "import spacy\n",
    "from sklearn.feature_extraction.text import TfidfVectorizer\n",
    "from sklearn.metrics.pairwise import cosine_similarity\n",
    "import joblib\n",
    "\n",
    "#!python -m spacy download pt\n",
    "\n",
    "import asyncio\n",
    "from pymongo import MongoClient\n",
    "\n",
    "\n",
    "DB_HOST_DEV = \"mongo\"\n",
    "DB_PASSWORD_DEV = \"example\"\n",
    "DB_PORT_DEV = \"27017\"\n",
    "DB_DATABASE_DEV = \"teste_data\"\n",
    "\n",
    "MONGODB_HOST = \"127.0.0.1\"  # Ou o endereço IP/nome do servidor MongoDB\n",
    "MONGODB_PORT = 27017  # Ou a porta correta em que o MongoDB está configurado para ouvir"
   ]
  },
  {
   "cell_type": "code",
   "execution_count": 2,
   "metadata": {},
   "outputs": [],
   "source": [
    "DB_URL = f\"\"\"mongodb://{MONGODB_HOST}:{DB_PASSWORD_DEV}\n",
    "@{DB_HOST_DEV}:{DB_PORT_DEV}/\"\"\"\n",
    "\n",
    "client = MongoClient(\"localhost\", 27017)\n",
    "database = client[\"customer-care-db\"]\n",
    "\n",
    "\n",
    "script_collection = database[\"script\"]"
   ]
  },
  {
   "cell_type": "code",
   "execution_count": 3,
   "metadata": {},
   "outputs": [],
   "source": [
    "nlp = spacy.load(\"pt_core_news_sm\")"
   ]
  },
  {
   "cell_type": "code",
   "execution_count": 4,
   "metadata": {},
   "outputs": [],
   "source": [
    "def remove_stopwords(text):\n",
    "    doc = nlp(text)\n",
    "    filtered_words = [token.text for token in doc if not token.is_stop]\n",
    "    return \" \".join(filtered_words)"
   ]
  },
  {
   "cell_type": "code",
   "execution_count": 5,
   "metadata": {},
   "outputs": [],
   "source": [
    "def get_descriptions_dataframe():\n",
    "    try:\n",
    "        results = script_collection.find({})\n",
    "        descriptions = []\n",
    "        descriptions = [i[\"problem\"] for i in list(results)]\n",
    "        data = pd.DataFrame(descriptions).reset_index(drop=True)\n",
    "        data[\"description\"] = data[\"description\"].apply(lambda x: x.lower())\n",
    "        data[\"description\"] = data[\"description\"].apply(remove_stopwords)\n",
    "        return data\n",
    "    except Exception as e:\n",
    "        raise (f\"Error loading or processing data: {e}\") from e"
   ]
  },
  {
   "cell_type": "code",
   "execution_count": 6,
   "metadata": {},
   "outputs": [],
   "source": [
    "data = get_descriptions_dataframe()"
   ]
  },
  {
   "cell_type": "code",
   "execution_count": 7,
   "metadata": {},
   "outputs": [],
   "source": [
    "# Instantiate the TF-IDF vectorizer\n",
    "vectorizer = TfidfVectorizer(lowercase=True, strip_accents=\"unicode\")\n",
    "\n",
    "vectorizer = vectorizer.fit(data[\"description\"])\n",
    "\n",
    "# Apply TF-IDF on the text dataset\n",
    "tfidf_matrix = vectorizer.fit_transform(data[\"description\"])\n",
    "\n",
    "# Get the feature names\n",
    "feature_names = vectorizer.get_feature_names_out()\n",
    "\n",
    "# Create a new dataframe with the TF-IDF features\n",
    "tfidf_df = pd.DataFrame(tfidf_matrix.toarray(), columns=feature_names)"
   ]
  },
  {
   "cell_type": "code",
   "execution_count": 8,
   "metadata": {},
   "outputs": [
    {
     "data": {
      "text/plain": [
       "['modelo_vectorizer.joblib']"
      ]
     },
     "execution_count": 8,
     "metadata": {},
     "output_type": "execute_result"
    }
   ],
   "source": [
    "# Save model\n",
    "\n",
    "modelo_file = \"modelo_vectorizer.joblib\"\n",
    "joblib.dump(vectorizer, modelo_file)"
   ]
  },
  {
   "cell_type": "code",
   "execution_count": 9,
   "metadata": {},
   "outputs": [],
   "source": [
    "# Exemplo de entrada do usuário\n",
    "user_input = \"Estou com alguns problemas com meu seguro.\"\n",
    "\n",
    "user_input = remove_stopwords(user_input)"
   ]
  },
  {
   "cell_type": "code",
   "execution_count": 10,
   "metadata": {},
   "outputs": [],
   "source": [
    "modelo_carregado = joblib.load(modelo_file)"
   ]
  },
  {
   "cell_type": "code",
   "execution_count": 11,
   "metadata": {},
   "outputs": [],
   "source": [
    "# Vetorização do input do usuário\n",
    "input_vector = modelo_carregado.transform([user_input])\n",
    "\n",
    "# Apply TF-IDF on the text dataset\n",
    "description_matrix = modelo_carregado.transform(data[\"description\"])\n",
    "\n",
    "# Cálculo da similaridade de cosseno entre o input do usuário e cada descrição\n",
    "similarity_scores = cosine_similarity(input_vector.toarray(), description_matrix)"
   ]
  },
  {
   "cell_type": "code",
   "execution_count": 12,
   "metadata": {},
   "outputs": [],
   "source": [
    "most_similar_index = similarity_scores.argmax()"
   ]
  },
  {
   "cell_type": "code",
   "execution_count": 13,
   "metadata": {},
   "outputs": [
    {
     "name": "stdout",
     "output_type": "stream",
     "text": [
      "Matriz de similaridade [[0.         0.31270025 0.         0.3715104  0.37660176]]\n",
      " Indice do vetor: 4\n"
     ]
    }
   ],
   "source": [
    "print(\n",
    "    f\"Matriz de similaridade {similarity_scores}\\n\",\n",
    "    f\"Indice do vetor: {most_similar_index}\",\n",
    ")"
   ]
  },
  {
   "cell_type": "code",
   "execution_count": 14,
   "metadata": {},
   "outputs": [
    {
     "name": "stdout",
     "output_type": "stream",
     "text": [
      "Descrição mais similar: cancelamento seguro : cliente deseja cancelar seguro contratado anteriormente . precisa orientações processo cancelamento possíveis reembolsos .\n"
     ]
    }
   ],
   "source": [
    "# Resultado\n",
    "most_similar_description = data[\"description\"][most_similar_index]\n",
    "print(\"Descrição mais similar:\", most_similar_description)"
   ]
  },
  {
   "cell_type": "code",
   "execution_count": 15,
   "metadata": {},
   "outputs": [
    {
     "data": {
      "text/html": [
       "<div>\n",
       "<style scoped>\n",
       "    .dataframe tbody tr th:only-of-type {\n",
       "        vertical-align: middle;\n",
       "    }\n",
       "\n",
       "    .dataframe tbody tr th {\n",
       "        vertical-align: top;\n",
       "    }\n",
       "\n",
       "    .dataframe thead th {\n",
       "        text-align: right;\n",
       "    }\n",
       "</style>\n",
       "<table border=\"1\" class=\"dataframe\">\n",
       "  <thead>\n",
       "    <tr style=\"text-align: right;\">\n",
       "      <th></th>\n",
       "      <th>id</th>\n",
       "      <th>description</th>\n",
       "    </tr>\n",
       "  </thead>\n",
       "  <tbody>\n",
       "    <tr>\n",
       "      <th>0</th>\n",
       "      <td>101</td>\n",
       "      <td>sinistro automotivo : cliente sofreu acidente ...</td>\n",
       "    </tr>\n",
       "    <tr>\n",
       "      <th>1</th>\n",
       "      <td>102</td>\n",
       "      <td>contratação seguro residencial : cliente inter...</td>\n",
       "    </tr>\n",
       "    <tr>\n",
       "      <th>2</th>\n",
       "      <td>103</td>\n",
       "      <td>atualização dados cadastrais : cliente precisa...</td>\n",
       "    </tr>\n",
       "    <tr>\n",
       "      <th>3</th>\n",
       "      <td>104</td>\n",
       "      <td>esclarecimento cobertura : cliente possui segu...</td>\n",
       "    </tr>\n",
       "    <tr>\n",
       "      <th>4</th>\n",
       "      <td>105</td>\n",
       "      <td>cancelamento seguro : cliente deseja cancelar ...</td>\n",
       "    </tr>\n",
       "  </tbody>\n",
       "</table>\n",
       "</div>"
      ],
      "text/plain": [
       "    id                                        description\n",
       "0  101  sinistro automotivo : cliente sofreu acidente ...\n",
       "1  102  contratação seguro residencial : cliente inter...\n",
       "2  103  atualização dados cadastrais : cliente precisa...\n",
       "3  104  esclarecimento cobertura : cliente possui segu...\n",
       "4  105  cancelamento seguro : cliente deseja cancelar ..."
      ]
     },
     "execution_count": 15,
     "metadata": {},
     "output_type": "execute_result"
    }
   ],
   "source": [
    "data"
   ]
  }
 ],
 "metadata": {
  "kernelspec": {
   "display_name": "venv",
   "language": "python",
   "name": "python3"
  },
  "language_info": {
   "codemirror_mode": {
    "name": "ipython",
    "version": 3
   },
   "file_extension": ".py",
   "mimetype": "text/x-python",
   "name": "python",
   "nbconvert_exporter": "python",
   "pygments_lexer": "ipython3",
   "version": "3.10.12"
  },
  "orig_nbformat": 4
 },
 "nbformat": 4,
 "nbformat_minor": 2
}
