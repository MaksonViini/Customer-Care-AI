{
 "cells": [
  {
   "cell_type": "code",
   "execution_count": 1,
   "metadata": {},
   "outputs": [],
   "source": [
    "import pandas as pd\n",
    "import spacy\n",
    "from sklearn.feature_extraction.text import TfidfVectorizer\n",
    "from sklearn.metrics.pairwise import cosine_similarity\n",
    "import joblib\n",
    "#!python -m spacy download pt\n",
    "\n",
    "from motor.motor_asyncio import AsyncIOMotorClient\n",
    "import asyncio\n",
    "from pymongo import MongoClient\n",
    "\n",
    "\n",
    "DB_HOST_DEV = \"mongo\"\n",
    "DB_PASSWORD_DEV = \"example\"\n",
    "DB_PORT_DEV = \"27017\"\n",
    "DB_DATABASE_DEV = \"teste_data\"\n",
    "\n",
    "MONGODB_HOST = \"127.0.0.1\"  # Ou o endereço IP/nome do servidor MongoDB\n",
    "MONGODB_PORT = 27017  # Ou a porta correta em que o MongoDB está configurado para ouvir"
   ]
  },
  {
   "cell_type": "code",
   "execution_count": 2,
   "metadata": {},
   "outputs": [],
   "source": [
    "DB_URL = f\"\"\"mongodb://{MONGODB_HOST}:{DB_PASSWORD_DEV}\n",
    "@{DB_HOST_DEV}:{DB_PORT_DEV}/\"\"\"\n",
    "\n",
    "client = MongoClient(\"localhost\", 27017)\n",
    "database = client[\"teste_data\"]\n",
    "\n",
    "\n",
    "script_collection = database[\"script\"]\n",
    "description_colletion = database[\"description\"]\n",
    "users_collection = database[\"users\"]\n",
    "conversations_collection = database[\"bot\"]"
   ]
  },
  {
   "cell_type": "code",
   "execution_count": 15,
   "metadata": {},
   "outputs": [],
   "source": [
    "data = description_colletion.find_one({})"
   ]
  },
  {
   "cell_type": "code",
   "execution_count": 16,
   "metadata": {},
   "outputs": [],
   "source": [
    "data = pd.DataFrame(data[\"descriptions\"]).reset_index(drop=True)\n",
    "data[\"description\"] = data[\"description\"].apply(lambda x: x.lower())"
   ]
  },
  {
   "cell_type": "code",
   "execution_count": 17,
   "metadata": {},
   "outputs": [
    {
     "name": "stderr",
     "output_type": "stream",
     "text": [
      "/home/maksonvinicio/Documents/GitLab-GitHub/Customer-Care-AI/venv/lib/python3.10/site-packages/spacy/util.py:910: UserWarning: [W095] Model 'pt_core_news_sm' (3.5.0) was trained with spaCy v3.5 and may not be 100% compatible with the current version (3.6.0). If you see errors or degraded performance, download a newer compatible model or retrain your custom model with the current spaCy version. For more details and available updates, run: python -m spacy validate\n",
      "  warnings.warn(warn_msg)\n"
     ]
    }
   ],
   "source": [
    "nlp = spacy.load(\"pt_core_news_sm\")"
   ]
  },
  {
   "cell_type": "code",
   "execution_count": 18,
   "metadata": {},
   "outputs": [],
   "source": [
    "def remove_stopwords(text):\n",
    "    doc = nlp(text)\n",
    "    filtered_words = [token.text for token in doc if not token.is_stop]\n",
    "    return \" \".join(filtered_words)"
   ]
  },
  {
   "cell_type": "code",
   "execution_count": 19,
   "metadata": {},
   "outputs": [],
   "source": [
    "data[\"description\"] = data[\"description\"].apply(remove_stopwords)"
   ]
  },
  {
   "cell_type": "code",
   "execution_count": 20,
   "metadata": {},
   "outputs": [],
   "source": [
    "# Instantiate the TF-IDF vectorizer\n",
    "vectorizer = TfidfVectorizer(lowercase=True, strip_accents=\"unicode\")\n",
    "\n",
    "vectorizer = vectorizer.fit(data[\"description\"])\n",
    "\n",
    "# Apply TF-IDF on the text dataset\n",
    "tfidf_matrix = vectorizer.fit_transform(data[\"description\"])\n",
    "\n",
    "# Get the feature names\n",
    "feature_names = vectorizer.get_feature_names_out()\n",
    "\n",
    "# Create a new dataframe with the TF-IDF features\n",
    "tfidf_df = pd.DataFrame(tfidf_matrix.toarray(), columns=feature_names)"
   ]
  },
  {
   "cell_type": "code",
   "execution_count": 21,
   "metadata": {},
   "outputs": [
    {
     "data": {
      "text/plain": [
       "['modelo_vectorizer.joblib']"
      ]
     },
     "execution_count": 21,
     "metadata": {},
     "output_type": "execute_result"
    }
   ],
   "source": [
    "# Save model\n",
    "\n",
    "modelo_file = \"modelo_vectorizer.joblib\"\n",
    "joblib.dump(vectorizer, modelo_file)\n"
   ]
  },
  {
   "cell_type": "code",
   "execution_count": 22,
   "metadata": {},
   "outputs": [],
   "source": [
    "# Exemplo de entrada do usuário\n",
    "user_input = \"Estou com alguns problemas com meu seguro.\"\n",
    "\n",
    "user_input = remove_stopwords(user_input)"
   ]
  },
  {
   "cell_type": "code",
   "execution_count": 23,
   "metadata": {},
   "outputs": [],
   "source": [
    "modelo_carregado = joblib.load(modelo_file)"
   ]
  },
  {
   "cell_type": "code",
   "execution_count": 39,
   "metadata": {},
   "outputs": [],
   "source": [
    "# Vetorização do input do usuário\n",
    "input_vector = modelo_carregado.transform([user_input])\n",
    "\n",
    "# Apply TF-IDF on the text dataset\n",
    "description_matrix = modelo_carregado.transform(data[\"description\"])\n",
    "\n",
    "# Cálculo da similaridade de cosseno entre o input do usuário e cada descrição\n",
    "similarity_scores = cosine_similarity(input_vector.toarray(), description_matrix)"
   ]
  },
  {
   "cell_type": "code",
   "execution_count": 42,
   "metadata": {},
   "outputs": [],
   "source": [
    "most_similar_index = similarity_scores.argmax()"
   ]
  },
  {
   "cell_type": "code",
   "execution_count": 43,
   "metadata": {},
   "outputs": [
    {
     "name": "stdout",
     "output_type": "stream",
     "text": [
      "Matriz de similaridade [[0.12919409 0.         0.11114526 0.12393859 0.26820331 0.13189763]]\n",
      " Indice do vetor: 4\n"
     ]
    }
   ],
   "source": [
    "print(\n",
    "    f\"Matriz de similaridade {similarity_scores}\\n\",\n",
    "    f\"Indice do vetor: {most_similar_index}\",\n",
    ")"
   ]
  },
  {
   "cell_type": "code",
   "execution_count": null,
   "metadata": {},
   "outputs": [],
   "source": [
    "# Resultado\n",
    "most_similar_description = data[\"description\"][most_similar_index]\n",
    "print(\"Descrição mais similar:\", most_similar_description)"
   ]
  },
  {
   "cell_type": "code",
   "execution_count": null,
   "metadata": {},
   "outputs": [],
   "source": [
    "data"
   ]
  },
  {
   "cell_type": "markdown",
   "metadata": {},
   "source": [
    "# Script"
   ]
  },
  {
   "cell_type": "code",
   "execution_count": null,
   "metadata": {},
   "outputs": [],
   "source": [
    "data_script = pd.read_json(\n",
    "    \"/home/maksonvinicio/Documents/GitLab-GitHub/Customer-Care-AI/ml_model/data/data_script.json\"\n",
    ").reset_index(drop=True)"
   ]
  },
  {
   "cell_type": "code",
   "execution_count": null,
   "metadata": {},
   "outputs": [],
   "source": [
    "response = data_script[data_script[\"id\"] == most_similar_index][\"script\"].to_dict()"
   ]
  },
  {
   "cell_type": "code",
   "execution_count": null,
   "metadata": {},
   "outputs": [],
   "source": [
    "\n",
    "# class Bot:\n",
    "#     @router.post(\"/bot\")\n",
    "#     async def message(connection_string: Depends(DB_URL)):\n",
    "#         message_history = MongoDBChatMessageHistory(\n",
    "#             connection_string=connection_string, session_id=\"test-session\"\n",
    "#         )\n",
    "\n",
    "#         message_history.add_user_message(\"hi!\")\n",
    "\n",
    "#         message_history.add_ai_message(\"whats up?\")"
   ]
  }
 ],
 "metadata": {
  "kernelspec": {
   "display_name": "venv",
   "language": "python",
   "name": "python3"
  },
  "language_info": {
   "codemirror_mode": {
    "name": "ipython",
    "version": 3
   },
   "file_extension": ".py",
   "mimetype": "text/x-python",
   "name": "python",
   "nbconvert_exporter": "python",
   "pygments_lexer": "ipython3",
   "version": "3.10.6"
  },
  "orig_nbformat": 4
 },
 "nbformat": 4,
 "nbformat_minor": 2
}
