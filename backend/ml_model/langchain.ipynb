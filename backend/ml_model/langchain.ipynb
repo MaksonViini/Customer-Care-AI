{
 "cells": [
  {
   "cell_type": "code",
   "execution_count": null,
   "metadata": {},
   "outputs": [],
   "source": [
    "from langchain import OpenAI, PromptTemplate\n",
    "\n",
    "\n",
    "from langchain.chains import ConversationChain\n",
    "from langchain.memory import ConversationEntityMemory\n",
    "from langchain.memory.prompt import ENTITY_MEMORY_CONVERSATION_TEMPLATE\n",
    "\n",
    "import os\n",
    "\n",
    "from dotenv import load_dotenv\n",
    "\n",
    "\n",
    "load_dotenv()\n",
    "\n"
   ]
  },
  {
   "cell_type": "markdown",
   "metadata": {},
   "source": [
    "# Entity memory"
   ]
  },
  {
   "cell_type": "code",
   "execution_count": null,
   "metadata": {},
   "outputs": [],
   "source": [
    "input_memory = [{'step': 1,\n",
    "  'user_message': 'Estou com alguns problemas com meu seguro.',\n",
    "  'bot_response': 'Olá! Bem-vindo ao nosso suporte. Como posso ajudar você hoje?'},\n",
    " {'step': 2,\n",
    "  'user_message': 'Estou com alguns problemas com meu seguro.',\n",
    "  'bot_response': 'Entendo que você está buscando ajuda para automatizar um processo de atendimento ao cliente no front office. Podemos orientar você nessa questão.'}]"
   ]
  },
  {
   "cell_type": "code",
   "execution_count": null,
   "metadata": {},
   "outputs": [],
   "source": [
    "def extract_context(memory, context):\n",
    "    for item in context:\n",
    "        # Load memory variables and save context for the standardized message\n",
    "        _input = {\"input\": item[\"user_message\"]}\n",
    "        memory.load_memory_variables(_input)\n",
    "        memory.save_context(_input, {\"output\": item[\"bot_response\"]})\n",
    "\n",
    "    return memory"
   ]
  },
  {
   "cell_type": "code",
   "execution_count": null,
   "metadata": {},
   "outputs": [],
   "source": [
    "llm = OpenAI(\n",
    "    temperature=0.5,\n",
    "    model=\"text-davinci-003\",\n",
    "    openai_api_key=os.getenv(\"OPENAI_API_KEY\"),\n",
    "    max_tokens=400,\n",
    ")\n",
    "\n",
    "template = \"\"\"Você é um chatbot conversando com um humano sobre seguros e créditos. \n",
    "    Por favor, responda em Português BR e use no máximo 2 linhas. Se o humano quiser falar com algum atendente\n",
    "    por favor, diga que \"Um atendente entrarar em contato em breve, aguarde!\".\n",
    "\n",
    "Context: {entities}\n",
    "Current conversation: {history}\n",
    "Humano: {input}\n",
    "Chatbot:\"\"\"\n",
    "\n",
    "prompt = PromptTemplate(\n",
    "    input_variables=[\"entities\", \"history\", \"input\"], template=template\n",
    ")\n",
    "\n",
    "memory = ConversationEntityMemory(llm=llm)\n",
    "\n",
    "memory = extract_context(memory, input_memory)\n",
    "\n",
    "\n",
    "conversation = ConversationChain(\n",
    "    llm=llm,\n",
    "    verbose=True,\n",
    "    prompt=prompt,\n",
    "    memory=memory,\n",
    ")\n"
   ]
  },
  {
   "cell_type": "code",
   "execution_count": null,
   "metadata": {},
   "outputs": [],
   "source": [
    "conversation.predict(input=\"Quero falar com atendente\")"
   ]
  },
  {
   "cell_type": "code",
   "execution_count": null,
   "metadata": {},
   "outputs": [],
   "source": []
  },
  {
   "cell_type": "code",
   "execution_count": null,
   "metadata": {},
   "outputs": [],
   "source": [
    "# conversation.predict(input=\"Ok, vou tentar, quais documentos preciso?\")"
   ]
  },
  {
   "cell_type": "code",
   "execution_count": null,
   "metadata": {},
   "outputs": [],
   "source": []
  },
  {
   "cell_type": "code",
   "execution_count": null,
   "metadata": {},
   "outputs": [],
   "source": [
    "memory"
   ]
  }
 ],
 "metadata": {
  "kernelspec": {
   "display_name": "venv",
   "language": "python",
   "name": "python3"
  },
  "language_info": {
   "codemirror_mode": {
    "name": "ipython",
    "version": 3
   },
   "file_extension": ".py",
   "mimetype": "text/x-python",
   "name": "python",
   "nbconvert_exporter": "python",
   "pygments_lexer": "ipython3",
   "version": "3.10.6"
  },
  "orig_nbformat": 4
 },
 "nbformat": 4,
 "nbformat_minor": 2
}
