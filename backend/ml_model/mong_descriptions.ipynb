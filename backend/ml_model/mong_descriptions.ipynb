{
 "cells": [
  {
   "cell_type": "code",
   "execution_count": 1,
   "metadata": {},
   "outputs": [],
   "source": [
    "from motor.motor_asyncio import AsyncIOMotorClient\n",
    "import asyncio\n",
    "from pymongo import MongoClient\n",
    "import pandas as pd\n",
    "\n",
    "\n",
    "DB_HOST_DEV = \"mongo\"\n",
    "DB_PASSWORD_DEV = \"example\"\n",
    "DB_PORT_DEV = \"27017\"\n",
    "DB_DATABASE_DEV = \"teste_data\"\n",
    "\n",
    "MONGODB_HOST = \"127.0.0.1\"  # Ou o endereço IP/nome do servidor MongoDB\n",
    "MONGODB_PORT = 27017  # Ou a porta correta em que o MongoDB está configurado para ouvir"
   ]
  },
  {
   "cell_type": "code",
   "execution_count": 19,
   "metadata": {},
   "outputs": [],
   "source": [
    "DB_URL = f\"\"\"mongodb://{MONGODB_HOST}:{DB_PASSWORD_DEV}\n",
    "@{DB_HOST_DEV}:{DB_PORT_DEV}/\"\"\"\n",
    "\n",
    "# client = AsyncIOMotorClient(DB_URL)\n",
    "\n",
    "client = MongoClient('localhost', 27017)\n",
    "\n",
    "database = client[DB_DATABASE_DEV]\n",
    "conversations_collection = database[\"bot\"]\n",
    "\n",
    "description_colletion = database[\"description\"]\n"
   ]
  },
  {
   "cell_type": "code",
   "execution_count": 20,
   "metadata": {},
   "outputs": [],
   "source": [
    "result = description_colletion.find_one({})"
   ]
  },
  {
   "cell_type": "code",
   "execution_count": 21,
   "metadata": {},
   "outputs": [],
   "source": [
    "data = pd.DataFrame(result[\"descriptions\"]).reset_index(drop=True)"
   ]
  },
  {
   "cell_type": "code",
   "execution_count": 22,
   "metadata": {},
   "outputs": [
    {
     "data": {
      "text/html": [
       "<div>\n",
       "<style scoped>\n",
       "    .dataframe tbody tr th:only-of-type {\n",
       "        vertical-align: middle;\n",
       "    }\n",
       "\n",
       "    .dataframe tbody tr th {\n",
       "        vertical-align: top;\n",
       "    }\n",
       "\n",
       "    .dataframe thead th {\n",
       "        text-align: right;\n",
       "    }\n",
       "</style>\n",
       "<table border=\"1\" class=\"dataframe\">\n",
       "  <thead>\n",
       "    <tr style=\"text-align: right;\">\n",
       "      <th></th>\n",
       "      <th>id</th>\n",
       "      <th>description</th>\n",
       "    </tr>\n",
       "  </thead>\n",
       "  <tbody>\n",
       "    <tr>\n",
       "      <th>0</th>\n",
       "      <td>1</td>\n",
       "      <td>Problema com Reembolso: O cliente está com dif...</td>\n",
       "    </tr>\n",
       "    <tr>\n",
       "      <th>1</th>\n",
       "      <td>2</td>\n",
       "      <td>Sinistro de Veículo: O cliente sofreu um acide...</td>\n",
       "    </tr>\n",
       "    <tr>\n",
       "      <th>2</th>\n",
       "      <td>3</td>\n",
       "      <td>Alteração de Dados Pessoais: O cliente mudou d...</td>\n",
       "    </tr>\n",
       "    <tr>\n",
       "      <th>3</th>\n",
       "      <td>4</td>\n",
       "      <td>Renovação de Apólice: O cliente tem uma apólic...</td>\n",
       "    </tr>\n",
       "    <tr>\n",
       "      <th>4</th>\n",
       "      <td>5</td>\n",
       "      <td>Dúvidas sobre Cobertura: O cliente tem dúvidas...</td>\n",
       "    </tr>\n",
       "    <tr>\n",
       "      <th>5</th>\n",
       "      <td>6</td>\n",
       "      <td>Cancelamento de Apólice: O cliente deseja canc...</td>\n",
       "    </tr>\n",
       "  </tbody>\n",
       "</table>\n",
       "</div>"
      ],
      "text/plain": [
       "   id                                        description\n",
       "0   1  Problema com Reembolso: O cliente está com dif...\n",
       "1   2  Sinistro de Veículo: O cliente sofreu um acide...\n",
       "2   3  Alteração de Dados Pessoais: O cliente mudou d...\n",
       "3   4  Renovação de Apólice: O cliente tem uma apólic...\n",
       "4   5  Dúvidas sobre Cobertura: O cliente tem dúvidas...\n",
       "5   6  Cancelamento de Apólice: O cliente deseja canc..."
      ]
     },
     "execution_count": 22,
     "metadata": {},
     "output_type": "execute_result"
    }
   ],
   "source": [
    "data"
   ]
  },
  {
   "cell_type": "code",
   "execution_count": 23,
   "metadata": {},
   "outputs": [
    {
     "name": "stderr",
     "output_type": "stream",
     "text": [
      "/home/maksonvinicio/Documents/GitLab-GitHub/Customer-Care-AI/venv/lib/python3.10/site-packages/spacy/util.py:910: UserWarning: [W095] Model 'pt_core_news_sm' (3.5.0) was trained with spaCy v3.5 and may not be 100% compatible with the current version (3.6.0). If you see errors or degraded performance, download a newer compatible model or retrain your custom model with the current spaCy version. For more details and available updates, run: python -m spacy validate\n",
      "  warnings.warn(warn_msg)\n"
     ]
    }
   ],
   "source": [
    "import pandas as pd\n",
    "import spacy\n",
    "from sklearn.feature_extraction.text import TfidfVectorizer\n",
    "from sklearn.metrics.pairwise import cosine_similarity\n",
    "\n",
    "nlp = spacy.load(\"pt_core_news_sm\")\n",
    "\n",
    "\n",
    "# Custom exception classes for better error handling\n",
    "class DataLoadingError(Exception):\n",
    "    pass\n",
    "\n",
    "\n",
    "class DataProcessingError(Exception):\n",
    "    pass\n",
    "\n",
    "\n",
    "class SimilarityModelError(Exception):\n",
    "    pass\n",
    "\n",
    "\n",
    "def load_data():\n",
    "\n",
    "    try:\n",
    "        result = description_colletion.find_one({})\n",
    "\n",
    "        data = pd.DataFrame(result[\"descriptions\"]).reset_index(drop=True)\n",
    "        data[\"description\"] = data[\"description\"].apply(lambda x: x.lower())\n",
    "        data[\"description\"] = data[\"description\"].apply(remove_stopwords)\n",
    "        return data\n",
    "\n",
    "    except Exception as e:\n",
    "        raise DataLoadingError(f\"Error loading or processing data: {e}\") from e\n",
    "\n",
    "\n",
    "def instantiate_vectorizer(data):\n",
    "    try:\n",
    "        # Instantiate the TF-IDF vectorizer and fit on the entire dataset\n",
    "        vectorizer = TfidfVectorizer(lowercase=True, strip_accents=\"unicode\")\n",
    "        tfidf_matrix = vectorizer.fit_transform(data[\"description\"])\n",
    "        return vectorizer, tfidf_matrix\n",
    "\n",
    "    except Exception as e:\n",
    "        raise DataProcessingError(f\"Error in vectorizer instantiation: {e}\") from e\n",
    "\n",
    "\n",
    "def remove_stopwords(text):\n",
    "    doc = nlp(text)\n",
    "    filtered_words = [token.text for token in doc if not token.is_stop]\n",
    "    return \" \".join(filtered_words)\n",
    "\n",
    "\n",
    "def similarity_model(user_input):\n",
    "    try:\n",
    "        vectorizer, tfidf_matrix = instantiate_vectorizer(load_data())\n",
    "\n",
    "        user_input = remove_stopwords(user_input)\n",
    "\n",
    "        # Vetorização do input do usuário\n",
    "        input_vector = vectorizer.transform([user_input])\n",
    "\n",
    "        # Cálculo da similaridade de cosseno entre o input do usuário e cada descrição\n",
    "        similarity_scores = cosine_similarity(input_vector, tfidf_matrix)\n",
    "\n",
    "        most_similar_index = similarity_scores.argmax()\n",
    "\n",
    "        return int(most_similar_index)\n",
    "\n",
    "    except Exception as e:\n",
    "        raise SimilarityModelError(f\"Error in similarity model: {e}\") from e\n"
   ]
  },
  {
   "cell_type": "code",
   "execution_count": 24,
   "metadata": {},
   "outputs": [
    {
     "data": {
      "text/plain": [
       "4"
      ]
     },
     "execution_count": 24,
     "metadata": {},
     "output_type": "execute_result"
    }
   ],
   "source": [
    "similarity_model(\"Estou com alguns problemas com meu seguro.\")"
   ]
  }
 ],
 "metadata": {
  "kernelspec": {
   "display_name": "venv",
   "language": "python",
   "name": "python3"
  },
  "language_info": {
   "codemirror_mode": {
    "name": "ipython",
    "version": 3
   },
   "file_extension": ".py",
   "mimetype": "text/x-python",
   "name": "python",
   "nbconvert_exporter": "python",
   "pygments_lexer": "ipython3",
   "version": "3.10.6"
  },
  "orig_nbformat": 4
 },
 "nbformat": 4,
 "nbformat_minor": 2
}
