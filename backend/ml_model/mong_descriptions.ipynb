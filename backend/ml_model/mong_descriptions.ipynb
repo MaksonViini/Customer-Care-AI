{
 "cells": [
  {
   "cell_type": "code",
   "execution_count": 1,
   "metadata": {},
   "outputs": [],
   "source": [
    "from motor.motor_asyncio import AsyncIOMotorClient\n",
    "import asyncio\n",
    "from pymongo import MongoClient\n",
    "import pandas as pd\n",
    "\n",
    "\n",
    "DB_HOST_DEV = \"mongo\"\n",
    "DB_PASSWORD_DEV = \"example\"\n",
    "DB_PORT_DEV = \"27017\"\n",
    "DB_DATABASE_DEV = \"customer-care-db\"\n",
    "\n",
    "MONGODB_HOST = \"127.0.0.1\"  # Ou o endereço IP/nome do servidor MongoDB\n",
    "MONGODB_PORT = 27017  # Ou a porta correta em que o MongoDB está configurado para ouvir"
   ]
  },
  {
   "cell_type": "code",
   "execution_count": 7,
   "metadata": {},
   "outputs": [],
   "source": [
    "DB_URL = f\"\"\"mongodb://{MONGODB_HOST}:{DB_PASSWORD_DEV}\n",
    "@{DB_HOST_DEV}:{DB_PORT_DEV}/\"\"\"\n",
    "\n",
    "# client = AsyncIOMotorClient(DB_URL)\n",
    "\n",
    "client = MongoClient(\"mongodb://localhost:27017/\")\n",
    "\n",
    "database = client[DB_DATABASE_DEV]\n",
    "conversations_collection = database[\"messages\"]\n",
    "\n",
    "script_collection = database[\"script\"]"
   ]
  },
  {
   "cell_type": "code",
   "execution_count": 12,
   "metadata": {},
   "outputs": [],
   "source": [
    "script_collection.drop()"
   ]
  },
  {
   "cell_type": "code",
   "execution_count": null,
   "metadata": {},
   "outputs": [],
   "source": [
    "def get_descriptions_dataframe(results):\n",
    "    descriptions = []\n",
    "    descriptions = [i[\"problem\"] for i in list(results)]\n",
    "    return pd.DataFrame(descriptions).reset_index(drop=True)"
   ]
  },
  {
   "cell_type": "code",
   "execution_count": null,
   "metadata": {},
   "outputs": [],
   "source": [
    "result = script_collection.find({})"
   ]
  },
  {
   "cell_type": "code",
   "execution_count": null,
   "metadata": {},
   "outputs": [],
   "source": [
    "script_collection.find_one({\"problem.id\": 4})"
   ]
  },
  {
   "cell_type": "code",
   "execution_count": null,
   "metadata": {},
   "outputs": [],
   "source": [
    "data = get_descriptions_dataframe(result)\n",
    "data"
   ]
  },
  {
   "cell_type": "code",
   "execution_count": null,
   "metadata": {},
   "outputs": [],
   "source": [
    "data = {}\n",
    "data[\"message\"] = \"Makson Vinicio Ferreira de Sousa\""
   ]
  },
  {
   "cell_type": "code",
   "execution_count": null,
   "metadata": {},
   "outputs": [],
   "source": [
    "data.get(\"message\", \"\").strip()"
   ]
  }
 ],
 "metadata": {
  "kernelspec": {
   "display_name": "venv",
   "language": "python",
   "name": "python3"
  },
  "language_info": {
   "codemirror_mode": {
    "name": "ipython",
    "version": 3
   },
   "file_extension": ".py",
   "mimetype": "text/x-python",
   "name": "python",
   "nbconvert_exporter": "python",
   "pygments_lexer": "ipython3",
   "version": "3.10.12"
  },
  "orig_nbformat": 4
 },
 "nbformat": 4,
 "nbformat_minor": 2
}
