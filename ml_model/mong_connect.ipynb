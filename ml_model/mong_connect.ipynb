{
 "cells": [
  {
   "cell_type": "code",
   "execution_count": null,
   "metadata": {},
   "outputs": [],
   "source": [
    "from motor.motor_asyncio import AsyncIOMotorClient\n",
    "from langchain.memory import MongoDBChatMessageHistory\n",
    "\n",
    "DB_HOST_DEV=\"mongo\"\n",
    "DB_PASSWORD_DEV=\"example\"\n",
    "DB_PORT_DEV=\"27017\"\n",
    "DB_DATABASE_DEV=\"test-session\""
   ]
  },
  {
   "cell_type": "code",
   "execution_count": null,
   "metadata": {},
   "outputs": [],
   "source": [
    "DB_URL = f\"\"\"mongodb://root:{DB_PASSWORD_DEV}\n",
    "@{DB_HOST_DEV}:{DB_PORT_DEV}/\"\"\"\n",
    "\n",
    "client = AsyncIOMotorClient(DB_URL)\n",
    "database = client[DB_DATABASE_DEV]\n",
    "collection = database[\"bot\"]"
   ]
  },
  {
   "cell_type": "code",
   "execution_count": null,
   "metadata": {},
   "outputs": [],
   "source": [
    "# # Provide the connection string to connect to the MongoDB database\n",
    "# connection_string = DB_URL\n",
    "\n",
    "# message_history = MongoDBChatMessageHistory(\n",
    "#     connection_string=connection_string, session_id=\"test-session\"\n",
    "# )\n",
    "\n",
    "# message_history.add_user_message(\"hi!\")\n",
    "\n",
    "# message_history.add_ai_message(\"whats up?\")"
   ]
  },
  {
   "cell_type": "code",
   "execution_count": null,
   "metadata": {},
   "outputs": [],
   "source": [
    "document = {\"message\": \"Hello, MongoDB!\"}\n",
    "await collection.insert_one(document)\n",
    "print(\"Document inserted successfully!\")"
   ]
  },
  {
   "cell_type": "code",
   "execution_count": null,
   "metadata": {},
   "outputs": [],
   "source": [
    "# Retrieving all messages from MongoDB and printing them\n",
    "all_messages_cursor = collection.find()\n",
    "all_messages_list = await all_messages_cursor.to_list(length=None)\n",
    "for message in all_messages_list:\n",
    "    print(message)"
   ]
  }
 ],
 "metadata": {
  "kernelspec": {
   "display_name": "venv",
   "language": "python",
   "name": "python3"
  },
  "language_info": {
   "codemirror_mode": {
    "name": "ipython",
    "version": 3
   },
   "file_extension": ".py",
   "mimetype": "text/x-python",
   "name": "python",
   "nbconvert_exporter": "python",
   "pygments_lexer": "ipython3",
   "version": "3.10.6"
  },
  "orig_nbformat": 4
 },
 "nbformat": 4,
 "nbformat_minor": 2
}
